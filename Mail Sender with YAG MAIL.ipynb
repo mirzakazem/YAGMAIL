{
 "cells": [
  {
   "cell_type": "code",
   "execution_count": 5,
   "id": "e1721cc8",
   "metadata": {},
   "outputs": [
    {
     "name": "stdout",
     "output_type": "stream",
     "text": [
      "Requirement already satisfied: yagmail[all] in c:\\users\\kazem.elseblani\\anaconda3\\lib\\site-packages (0.15.293)\n",
      "Requirement already satisfied: premailer in c:\\users\\kazem.elseblani\\anaconda3\\lib\\site-packages (from yagmail[all]) (3.10.0)\n",
      "Collecting dkimpy\n",
      "  Downloading dkimpy-1.1.4.tar.gz (66 kB)\n",
      "Requirement already satisfied: keyring in c:\\users\\kazem.elseblani\\anaconda3\\lib\\site-packages (from yagmail[all]) (23.1.0)\n",
      "Collecting dnspython>=1.16.0\n",
      "  Downloading dnspython-2.3.0-py3-none-any.whl (283 kB)\n",
      "Requirement already satisfied: pywin32-ctypes!=0.1.0,!=0.1.1 in c:\\users\\kazem.elseblani\\anaconda3\\lib\\site-packages (from keyring->yagmail[all]) (0.2.0)\n",
      "Requirement already satisfied: importlib-metadata>=3.6 in c:\\users\\kazem.elseblani\\anaconda3\\lib\\site-packages (from keyring->yagmail[all]) (4.8.1)\n",
      "Requirement already satisfied: zipp>=0.5 in c:\\users\\kazem.elseblani\\anaconda3\\lib\\site-packages (from importlib-metadata>=3.6->keyring->yagmail[all]) (3.6.0)\n",
      "Requirement already satisfied: cachetools in c:\\users\\kazem.elseblani\\anaconda3\\lib\\site-packages (from premailer->yagmail[all]) (5.0.0)\n",
      "Requirement already satisfied: lxml in c:\\users\\kazem.elseblani\\anaconda3\\lib\\site-packages (from premailer->yagmail[all]) (4.6.3)\n",
      "Requirement already satisfied: cssutils in c:\\users\\kazem.elseblani\\anaconda3\\lib\\site-packages (from premailer->yagmail[all]) (2.6.0)\n",
      "Requirement already satisfied: cssselect in c:\\users\\kazem.elseblani\\anaconda3\\lib\\site-packages (from premailer->yagmail[all]) (1.1.0)\n",
      "Requirement already satisfied: requests in c:\\users\\kazem.elseblani\\anaconda3\\lib\\site-packages (from premailer->yagmail[all]) (2.29.0)\n",
      "Requirement already satisfied: certifi>=2017.4.17 in c:\\users\\kazem.elseblani\\anaconda3\\lib\\site-packages (from requests->premailer->yagmail[all]) (2022.6.15)\n",
      "Requirement already satisfied: urllib3<1.27,>=1.21.1 in c:\\users\\kazem.elseblani\\anaconda3\\lib\\site-packages (from requests->premailer->yagmail[all]) (1.26.7)\n",
      "Requirement already satisfied: charset-normalizer<4,>=2 in c:\\users\\kazem.elseblani\\anaconda3\\lib\\site-packages (from requests->premailer->yagmail[all]) (2.0.4)\n",
      "Requirement already satisfied: idna<4,>=2.5 in c:\\users\\kazem.elseblani\\anaconda3\\lib\\site-packages (from requests->premailer->yagmail[all]) (3.2)\n",
      "Building wheels for collected packages: dkimpy\n",
      "  Building wheel for dkimpy (setup.py): started\n",
      "  Building wheel for dkimpy (setup.py): finished with status 'done'\n",
      "  Created wheel for dkimpy: filename=dkimpy-1.1.4-py3-none-any.whl size=50001 sha256=7544c51df6e751bb7e10d92e681ea8b294e7c1c0800bea3b4c427aa3813c6d6a\n",
      "  Stored in directory: c:\\users\\kazem.elseblani\\appdata\\local\\pip\\cache\\wheels\\05\\66\\e7\\4c2b1e67a8009a4edf31d5e594484d639ac3c679f6349f9c18\n",
      "Successfully built dkimpy\n",
      "Installing collected packages: dnspython, dkimpy\n",
      "Successfully installed dkimpy-1.1.4 dnspython-2.3.0\n",
      "Note: you may need to restart the kernel to use updated packages.\n"
     ]
    }
   ],
   "source": [
    "#pip install yagmail[all]"
   ]
  },
  {
   "cell_type": "code",
   "execution_count": null,
   "id": "5f4a283a",
   "metadata": {},
   "outputs": [],
   "source": [
    "# https://yagmail.readthedocs.io/en/latest/index.html"
   ]
  },
  {
   "cell_type": "code",
   "execution_count": 1,
   "id": "73535388",
   "metadata": {},
   "outputs": [],
   "source": [
    "import yagmail"
   ]
  },
  {
   "cell_type": "code",
   "execution_count": 2,
   "id": "65438f53",
   "metadata": {},
   "outputs": [],
   "source": [
    "yagmail.register('fss.lebanon@gmail.com', 'FSS@lebanon465')"
   ]
  },
  {
   "cell_type": "code",
   "execution_count": 3,
   "id": "b2348ee4",
   "metadata": {},
   "outputs": [],
   "source": [
    "yag = yagmail.SMTP('fss.lebanon@gmail.com', 'makwtnbzimvlxhff')\n",
    "# the password used is an Apps password, you can get it via : \n",
    "#Google gmail --> settings --> security --> under 2 step verification there is a button called Apps passowrd"
   ]
  },
  {
   "cell_type": "code",
   "execution_count": 8,
   "id": "b80e1cc8",
   "metadata": {},
   "outputs": [
    {
     "data": {
      "text/plain": [
       "{}"
      ]
     },
     "execution_count": 8,
     "metadata": {},
     "output_type": "execute_result"
    }
   ],
   "source": [
    "#yag = yagmail.SMTP()\n",
    "name=\"Kazem\"\n",
    "text = \"<h1>This is a big title!</h1> <br> <h2>hello \"+ name +\"! </h2> \"\n",
    "yag.send(to='kazem.seblani@gmail.com', contents=text, subject=\"YAGMail\")"
   ]
  },
  {
   "cell_type": "code",
   "execution_count": null,
   "id": "d491a82b",
   "metadata": {},
   "outputs": [],
   "source": []
  }
 ],
 "metadata": {
  "kernelspec": {
   "display_name": "Python 3 (ipykernel)",
   "language": "python",
   "name": "python3"
  },
  "language_info": {
   "codemirror_mode": {
    "name": "ipython",
    "version": 3
   },
   "file_extension": ".py",
   "mimetype": "text/x-python",
   "name": "python",
   "nbconvert_exporter": "python",
   "pygments_lexer": "ipython3",
   "version": "3.9.7"
  }
 },
 "nbformat": 4,
 "nbformat_minor": 5
}
